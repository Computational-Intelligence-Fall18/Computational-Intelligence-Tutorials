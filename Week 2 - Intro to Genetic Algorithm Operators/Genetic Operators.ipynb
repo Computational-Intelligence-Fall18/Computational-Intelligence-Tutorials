{
 "cells": [
  {
   "cell_type": "markdown",
   "metadata": {
    "slideshow": {
     "slide_type": "slide"
    }
   },
   "source": [
    "# Content\n",
    "* Introduction to Problem\n",
    "* Knapsack Sample Generator\n",
    "* Chromosome Design\n",
    "* Initialization\n",
    "* Fitness Calculation\n",
    "* Selection\n",
    "* Implemented Functions Test\n",
    "* Next Week"
   ]
  },
  {
   "cell_type": "code",
   "execution_count": 18,
   "metadata": {
    "slideshow": {
     "slide_type": "slide"
    }
   },
   "outputs": [],
   "source": [
    "import numpy as np\n",
    "from matplotlib.pyplot import pie"
   ]
  },
  {
   "cell_type": "markdown",
   "metadata": {
    "slideshow": {
     "slide_type": "slide"
    }
   },
   "source": [
    "# Introduction to Problem\n",
    "The problem that we gonna solve is the <a href=\"https://en.wikipedia.org/wiki/Knapsack_problem\">Knapsack Problem</a>.\n",
    "<p>The Knapsack optimization is a classical algorithm problem. You have two things: a bag with a size (the weight it can hold) and a set of boxes with different weights and different values. The goal is to fill the bag to make it as valuable as possible without exceeding the maximum weight. It is a famous mathematical problem since 1972. The genetic algorithm is well suited to solve that because it’s an optimization problem with a lot of possible solutions<a href=\"https://blog.sicara.com/getting-started-genetic-algorithms-python-tutorial-81ffa1dd72f9\">(1)</a>. </p>"
   ]
  },
  {
   "cell_type": "markdown",
   "metadata": {
    "slideshow": {
     "slide_type": "-"
    }
   },
   "source": [
    "![knapsack](images/knapsack_problem.png)"
   ]
  },
  {
   "cell_type": "markdown",
   "metadata": {
    "slideshow": {
     "slide_type": "slide"
    }
   },
   "source": [
    "# Knapsack Sample Generator\n",
    "First we should implement 2 classes as follow :\n",
    "* First class called Item represent an item which a have two features :\n",
    "    * Value\n",
    "    * Weight\n",
    "* Second class called Bag represent a bag which have one feature, capacity."
   ]
  },
  {
   "cell_type": "code",
   "execution_count": 19,
   "metadata": {},
   "outputs": [],
   "source": [
    "class Item:\n",
    "    def __init__(self, value, weight) :\n",
    "        self.value = value\n",
    "        self.weight = weight\n",
    "\n",
    "class Bag:\n",
    "    def __init__(self, capacity) :\n",
    "        self.capacity = capacity"
   ]
  },
  {
   "cell_type": "markdown",
   "metadata": {},
   "source": [
    "Now we should generate two things :\n",
    "* A Bag with randomly chosen capacity\n",
    "* A random number of Items initialized with randomly chosen weights and values "
   ]
  },
  {
   "cell_type": "code",
   "execution_count": 20,
   "metadata": {},
   "outputs": [
    {
     "name": "stdout",
     "output_type": "stream",
     "text": [
      "We have 12 items with weight and values of :\n",
      "item 0: Weight=>33.77062994324069 Value=>17.78533854675055\n",
      "item 1: Weight=>33.890069551365016 Value=>25.738368528682702\n",
      "item 2: Weight=>15.375268291707993 Value=>18.70691090357917\n",
      "item 3: Weight=>2.2685190926977272 Value=>8.926038196334169\n",
      "item 4: Weight=>19.106604692853995 Value=>8.179688837403397\n",
      "item 5: Weight=>19.199086895002292 Value=>24.365061863264796\n",
      "item 6: Weight=>33.4431505414951 Value=>11.783543883024892\n",
      "item 7: Weight=>25.926874882047887 Value=>10.12188481251805\n",
      "item 8: Weight=>38.28620635812185 Value=>11.04724619521644\n",
      "item 9: Weight=>34.803490334337454 Value=>4.210523412379354\n",
      "item 10: Weight=>32.03643007918577 Value=>14.208241358211314\n",
      "item 11: Weight=>27.155181204758414 Value=>15.614324386536145\n",
      "We have a bag with capacity of 385.90367426844006\n"
     ]
    }
   ],
   "source": [
    "np.random.seed(0)\n",
    "items_number = np.random.randint(30)\n",
    "max_value = 30\n",
    "max_weight = 40\n",
    "# List Comprehensions, for more details see : https://www.pythonforbeginners.com/basics/list-comprehensions-in-python\n",
    "items = np.array([Item(np.random.rand()*max_value, np.random.rand()*max_weight) for _ in range(items_number)])\n",
    "bag = Bag(np.random.rand()*(max_weight*len(items)) + max_weight)\n",
    "print('We have {} items with weight and values of :'.format(len(items)))\n",
    "for i,item in enumerate(items) :\n",
    "    print('item {}: Weight=>{} Value=>{}'.format(i, item.weight, item.value))\n",
    "print('We have a bag with capacity of {}'.format(bag.capacity))"
   ]
  },
  {
   "cell_type": "markdown",
   "metadata": {},
   "source": [
    "# Chromosome Design"
   ]
  },
  {
   "cell_type": "markdown",
   "metadata": {},
   "source": [
    "For solving a problem using Genetic Algorithms, the first step we should take is to find a good structure that represents our search space as best as possible"
   ]
  },
  {
   "cell_type": "markdown",
   "metadata": {},
   "source": [
    "In knapsack problem, every item can be two different states, Selected and not Selected, So we can represent a binary chromosome which its number of genes is equal to the number of items we have."
   ]
  },
  {
   "cell_type": "markdown",
   "metadata": {},
   "source": [
    "![chromosome](images/chromosome.png)"
   ]
  },
  {
   "cell_type": "code",
   "execution_count": 21,
   "metadata": {},
   "outputs": [],
   "source": [
    "class Chromosome :\n",
    "    def __init__(self, length) :\n",
    "        self.genes = np.random.rand(length) > .5\n",
    "        self.fitness = float('-inf')"
   ]
  },
  {
   "cell_type": "markdown",
   "metadata": {},
   "source": [
    "# Initialization"
   ]
  },
  {
   "cell_type": "markdown",
   "metadata": {},
   "source": [
    "In this step we will initialize the First Generation :"
   ]
  },
  {
   "cell_type": "code",
   "execution_count": 7,
   "metadata": {},
   "outputs": [],
   "source": [
    "population_init = lambda size : np.array([Chromosome(len(items)) for _ in range(size)])"
   ]
  },
  {
   "cell_type": "markdown",
   "metadata": {},
   "source": [
    "# Fitness Calculation"
   ]
  },
  {
   "cell_type": "markdown",
   "metadata": {},
   "source": [
    "Calculating fitness is as follow :\n",
    "* If weights of selected items were more than the capacity of the bag, the fitness will be -1\n",
    "* Otherwise, the fitness will be equal to the sum of the value of the selected items"
   ]
  },
  {
   "cell_type": "code",
   "execution_count": 22,
   "metadata": {},
   "outputs": [],
   "source": [
    "def fitness_eval(chrom) :\n",
    "    selected_items = items[chrom.genes]\n",
    "    capacity_full = 0\n",
    "    fitness = 0\n",
    "    for item in selected_items :\n",
    "        capacity_full += item.weight\n",
    "        if capacity_full > bag.capacity :\n",
    "            fitness = -1\n",
    "            break\n",
    "        fitness += item.value\n",
    "    return fitness"
   ]
  },
  {
   "cell_type": "markdown",
   "metadata": {},
   "source": [
    "# Selection"
   ]
  },
  {
   "cell_type": "markdown",
   "metadata": {},
   "source": [
    "There are various selection methods out there including :\n",
    "* Random Selection\n",
    "* Proportional Selection\n",
    "    * Roulette wheel selection\n",
    "    * Stochastic Universal Sampling\n",
    "* Tournament Selection\n",
    "* Rank-Based Selection\n",
    "* Boltzmann Selection\n",
    "But in this session, we will implement roulette wheel selection and tournament selection."
   ]
  },
  {
   "cell_type": "markdown",
   "metadata": {},
   "source": [
    "## Roulette Selection\n",
    "![roulette_wheel](images/roulette_wheel.png \"Roulette Wheel Selection\")"
   ]
  },
  {
   "cell_type": "markdown",
   "metadata": {},
   "source": [
    "You can read more about Roulette Selection and other Selection Algorithms <a href=\"https://www.tutorialspoint.com/genetic_algorithms/genetic_algorithms_parent_selection.htm\">here</a>."
   ]
  },
  {
   "cell_type": "code",
   "execution_count": 9,
   "metadata": {},
   "outputs": [],
   "source": [
    "def roulette_selection(chromosomes) :\n",
    "    i = 0\n",
    "    fitnesses = np.array(list(map(lambda c: c.fitness, chromosomes)))\n",
    "    sum_of_fitnesses = np.sum(fitnesses)\n",
    "    sel_prob = fitnesses/sum_of_fitnesses\n",
    "    pie(sel_prob) # Ploting pie chart of probablity of each individual\n",
    "    sum_prob = sel_prob[i]\n",
    "    pointer = np.random.rand()\n",
    "    while sum_prob < pointer :\n",
    "        i += 1\n",
    "        sum_prob += sel_prob[i]            \n",
    "    return chromosomes[i]"
   ]
  },
  {
   "cell_type": "markdown",
   "metadata": {},
   "source": [
    "## Tournament Selection"
   ]
  },
  {
   "cell_type": "markdown",
   "metadata": {},
   "source": [
    "![tournoment_selection](images/tournament_selection.jpg)"
   ]
  },
  {
   "cell_type": "markdown",
   "metadata": {},
   "source": [
    "You can read more about Tournament Selection <a href=\"https://www.geeksforgeeks.org/tournament-selection-ga/\">here</a>."
   ]
  },
  {
   "cell_type": "code",
   "execution_count": 13,
   "metadata": {},
   "outputs": [],
   "source": [
    "tournament_selection = lambda chromosomes, sel_pressure: max(np.random.choice(chromosomes, sel_pressure),key=lambda c: c.fitness)"
   ]
  },
  {
   "cell_type": "markdown",
   "metadata": {},
   "source": [
    "# Implemented Functions Test"
   ]
  },
  {
   "cell_type": "code",
   "execution_count": 30,
   "metadata": {},
   "outputs": [
    {
     "name": "stdout",
     "output_type": "stream",
     "text": [
      "Selected Individual Fitness: 91.72940530772647\n",
      "Genes: [ True False  True False False  True False False  True  True False  True]\n"
     ]
    },
    {
     "data": {
      "image/png": "[encoded data removed]",
      "text/plain": [
       "<matplotlib.figure.Figure at 0x1b7034b2d68>"
      ]
     },
     "metadata": {},
     "output_type": "display_data"
    }
   ],
   "source": [
    "pop_size = 50\n",
    "selection_method = '' # You can change this to 'tournament' for changing the selection function\n",
    "# Initializing First Generation\n",
    "pop = population_init(pop_size)\n",
    "\n",
    "# Calculating Fitness of Each Individual\n",
    "for chrom in pop :\n",
    "    chrom.fitness = fitness_eval(chrom)\n",
    "\n",
    "# Selecting just an individual for ensuring that implemented functions work properly\n",
    "if selection_method == 'tournament' :\n",
    "    sel_ind = tournament_selection(pop, 10)\n",
    "else :\n",
    "    sel_ind = roulette_selection(pop)\n",
    "print('Selected Individual Fitness: {}\\nGenes: {}'.format(sel_ind.fitness, sel_ind.genes))"
   ]
  },
  {
   "cell_type": "markdown",
   "metadata": {},
   "source": [
    "# Next Week"
   ]
  },
  {
   "cell_type": "markdown",
   "metadata": {},
   "source": [
    "Next week, we will implement :\n",
    "* Different Crossover Operations\n",
    "* Different Mutation Operations\n",
    "* Complete Genetic Alogirhtm for solving this problem"
   ]
  }
 ],
 "metadata": {
  "kernelspec": {
   "display_name": "Python 3",
   "language": "python",
   "name": "python3"
  },
  "language_info": {
   "codemirror_mode": {
    "name": "ipython",
    "version": 3
   },
   "file_extension": ".py",
   "mimetype": "text/x-python",
   "name": "python",
   "nbconvert_exporter": "python",
   "pygments_lexer": "ipython3",
   "version": "3.6.4"
  }
 },
 "nbformat": 4,
 "nbformat_minor": 2
}
