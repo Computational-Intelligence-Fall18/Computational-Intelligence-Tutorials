{
 "cells": [
  {
   "cell_type": "markdown",
   "metadata": {},
   "source": [
    "# Before we begin"
   ]
  },
  {
   "cell_type": "markdown",
   "metadata": {},
   "source": [
    "* Github (Github Education)\n",
    "* Bitbucket\n",
    "* Kaggle"
   ]
  },
  {
   "cell_type": "markdown",
   "metadata": {
    "slideshow": {
     "slide_type": "slide"
    }
   },
   "source": [
    "# Introduction\n",
    "In this week, we want to implement an Ant Colony Optimization Algorithm to solve Travelling Sales Man problem."
   ]
  },
  {
   "cell_type": "code",
   "execution_count": 1,
   "metadata": {},
   "outputs": [],
   "source": [
    "import random\n",
    "import math\n",
    "import operator\n",
    "import matplotlib.pyplot as plt"
   ]
  },
  {
   "cell_type": "markdown",
   "metadata": {},
   "source": [
    "# Content\n",
    "* Travelling Sales Man Problem\n",
    "* Helper Functions\n",
    "* Cost & Pheromone Graph\n",
    "* Designing Ants\n",
    "* Designing ACO\n",
    "* Running"
   ]
  },
  {
   "cell_type": "markdown",
   "metadata": {},
   "source": [
    "# Travelling Sales Man Problem(TSP)"
   ]
  },
  {
   "cell_type": "markdown",
   "metadata": {},
   "source": [
    "The travelling salesman problem (TSP) asks the following question: \"Given a list of cities and the distances between each pair of cities, what is the shortest possible route that visits each city and returns to the origin city?\" It is an NP-hard problem in combinatorial optimization, important in operations research and theoretical computer science."
   ]
  },
  {
   "cell_type": "markdown",
   "metadata": {},
   "source": [
    "![TSP Sample](figs/tsp.png)"
   ]
  },
  {
   "cell_type": "markdown",
   "metadata": {},
   "source": [
    "# Helper Functions"
   ]
  },
  {
   "cell_type": "markdown",
   "metadata": {},
   "source": [
    "\\begin{align}\n",
    "Distance = \\sqrt{ (y_2 - y_1)^2 + (x_2 - x_1)^2}\n",
    "\\end{align}"
   ]
  },
  {
   "cell_type": "code",
   "execution_count": 2,
   "metadata": {},
   "outputs": [],
   "source": [
    "def distance(city1: dict, city2: dict):\n",
    "    return math.sqrt((city1['x'] - city2['x']) ** 2 + (city1['y'] - city2['y']) ** 2)"
   ]
  },
  {
   "cell_type": "code",
   "execution_count": 3,
   "metadata": {},
   "outputs": [],
   "source": [
    "def plot(points, path: list):\n",
    "    x = []\n",
    "    y = []\n",
    "    for point in points:\n",
    "        x.append(point[0])\n",
    "        y.append(point[1])\n",
    "    \n",
    "    y = list(map(operator.sub, [max(y) for i in range(len(points))], y)) # for better visualization\n",
    "    plt.plot(x, y, 'co')\n",
    "\n",
    "    for k in range(1, len(path)):\n",
    "        i = path[k - 1] # index of first city\n",
    "        j = path[k] # index of next city\n",
    "        \n",
    "        plt.arrow(x[i], y[i], x[j] - x[i], y[j] - y[i], color='r', length_includes_head=True)\n",
    "\n",
    "    \n",
    "    plt.xlim(0, max(x) * 1.1)\n",
    "    \n",
    "    plt.ylim(0, max(y) * 1.1)\n",
    "    \n",
    "    plt.show()"
   ]
  },
  {
   "cell_type": "markdown",
   "metadata": {},
   "source": [
    "# Prerequisites"
   ]
  },
  {
   "cell_type": "markdown",
   "metadata": {},
   "source": [
    "### ACO Algorihtm\n",
    "![ACO Algorithm](figs/aco_algorithm.PNG)\n",
    "### Strategy\n",
    "![Q Updating](figs/strategy.PNG)\n",
    "With $Q \\in [0,1]$\n",
    "### Rho\n",
    "\\begin{align}\n",
    "T_{ij}(t) \\leftarrow rho * T_{ij}(t)\n",
    "\\end{align}\n",
    "With $rho \\in [0,1]$\n",
    "### Transition Probability\n",
    "![Transition Probability](figs/transition_prob.PNG)\n",
    "With $\\alpha, \\beta \\in [0,1]$"
   ]
  },
  {
   "cell_type": "markdown",
   "metadata": {},
   "source": [
    "# Cost & Pheromone Graph"
   ]
  },
  {
   "cell_type": "markdown",
   "metadata": {},
   "source": [
    "The graph is a data structure that has the matrices that we needed to evaluate transition probability:"
   ]
  },
  {
   "cell_type": "code",
   "execution_count": 4,
   "metadata": {},
   "outputs": [],
   "source": [
    "class Graph(object):\n",
    "    def __init__(self, cost_matrix: list, rank: int):\n",
    "        \"\"\"\n",
    "        :param cost_matrix:\n",
    "        :param rank: rank of the cost matrix\n",
    "        \"\"\"\n",
    "        self.matrix = cost_matrix\n",
    "        self.rank = rank\n",
    "        # noinspection PyUnusedLocal\n",
    "        self.pheromone = [[1 / (rank * rank) for j in range(rank)] for i in range(rank)]"
   ]
  },
  {
   "cell_type": "markdown",
   "metadata": {},
   "source": [
    "# Designing Ants"
   ]
  },
  {
   "cell_type": "code",
   "execution_count": 5,
   "metadata": {},
   "outputs": [],
   "source": [
    "class Ant(object):\n",
    "    def __init__(self, aco, graph: Graph):\n",
    "        self.colony = aco\n",
    "        self.graph = graph\n",
    "        self.total_cost = 0.0\n",
    "        self.path = []  # path\n",
    "        self.pheromone_delta = []  # the local increase of pheromone\n",
    "        self.allowed = [i for i in range(graph.rank)]  # nodes which are allowed for the next selection\n",
    "        self.eta = [[0 if i == j else 1 / graph.matrix[i][j] for j in range(graph.rank)] \\\n",
    "                        for i in range(graph.rank)]  # heuristic information for calculating \n",
    "        start = random.randint(0, graph.rank - 1)  # start from any node\n",
    "        self.path.append(start)\n",
    "        self.current = start\n",
    "        self.allowed.remove(start)\n",
    "\n",
    "    def select_next(self):\n",
    "        denominator = 0\n",
    "        for i in self.allowed:\n",
    "            denominator += self.graph.pheromone[self.current][i] ** self.colony.alpha \\\n",
    "                * self.eta[self.current][i] ** self.colony.beta\n",
    "        # noinspection PyUnusedLocal\n",
    "        probabilities = [0 for i in range(self.graph.rank)]  # probabilities for moving to a node in the next step\n",
    "        for i in range(self.graph.rank):\n",
    "            try:\n",
    "                self.allowed.index(i)  # test if allowed list contains i\n",
    "                probabilities[i] = self.graph.pheromone[self.current][i] ** self.colony.alpha * \\\n",
    "                    self.eta[self.current][i] ** self.colony.beta / denominator\n",
    "            except ValueError:\n",
    "                pass  # do nothing\n",
    "            \n",
    "        # select next node by probability roulette\n",
    "        selected = 0\n",
    "        rand = random.random()\n",
    "        for i, probability in enumerate(probabilities):\n",
    "            rand -= probability\n",
    "            if rand <= 0:\n",
    "                selected = i\n",
    "                break\n",
    "        self.allowed.remove(selected)\n",
    "        self.path.append(selected)\n",
    "        self.total_cost += self.graph.matrix[self.current][selected]\n",
    "        self.current = selected\n",
    "\n",
    "    # noinspection PyUnusedLocal\n",
    "    def update_pheromone_delta(self):\n",
    "        self.pheromone_delta = [[0 for j in range(self.graph.rank)] for i in range(self.graph.rank)]\n",
    "        for k in range(1, len(self.path)):\n",
    "            i = self.path[k - 1]\n",
    "            j = self.path[k]\n",
    "            if self.colony.update_strategy == 1:  # ant-quality system\n",
    "                self.pheromone_delta[i][j] = self.colony.Q\n",
    "            elif self.colony.update_strategy == 2:  # ant-density system\n",
    "                # noinspection PyTypeChecker\n",
    "                self.pheromone_delta[i][j] = self.colony.Q / self.graph.matrix[i][j]\n",
    "            else:  # ant-cycle system\n",
    "                self.pheromone_delta[i][j] = self.colony.Q / self.total_cost"
   ]
  },
  {
   "cell_type": "markdown",
   "metadata": {},
   "source": [
    "# Designing ACO"
   ]
  },
  {
   "cell_type": "code",
   "execution_count": 6,
   "metadata": {},
   "outputs": [],
   "source": [
    "class ACO(object):\n",
    "    def __init__(self, ant_count: int, generations: int,\n",
    "                 alpha: float, beta: float, rho: float,\n",
    "                 q: int, strategy: int):\n",
    "        \"\"\"\n",
    "        :param ant_count:\n",
    "        :param generations:\n",
    "        :param alpha: relative importance of pheromone\n",
    "        :param beta: relative importance of heuristic information\n",
    "        :param rho: pheromone residual coefficient\n",
    "        :param q: pheromone intensity\n",
    "        :param strategy: pheromone update strategy. 0 - ant-cycle, 1 - ant-quality, 2 - ant-density\n",
    "        \"\"\"\n",
    "        self.Q = q\n",
    "        self.rho = rho # Evapuration Rate\n",
    "        self.beta = beta\n",
    "        self.alpha = alpha\n",
    "        self.ant_count = ant_count\n",
    "        self.generations = generations\n",
    "        self.update_strategy = strategy\n",
    "\n",
    "    def _update_pheromone(self, graph: Graph, ants: list):\n",
    "        for i, row in enumerate(graph.pheromone):\n",
    "            for j, col in enumerate(row):\n",
    "                graph.pheromone[i][j] *= self.rho # Evapuration\n",
    "                for ant in ants:\n",
    "                    graph.pheromone[i][j] += ant.pheromone_delta[i][j]\n",
    "\n",
    "    def solve(self, graph: Graph):\n",
    "        \"\"\"\n",
    "        :param graph:\n",
    "        \"\"\"\n",
    "        best_cost = float('inf')\n",
    "        best_solution = []\n",
    "        for gen in range(self.generations):\n",
    "            # noinspection PyUnusedLocal\n",
    "            ants = [Ant(self, graph) for i in range(self.ant_count)]\n",
    "            for ant in ants:\n",
    "                for i in range(graph.rank - 1):\n",
    "                    ant.select_next()\n",
    "                ant.total_cost += graph.matrix[ant.path[-1]][ant.path[0]]\n",
    "                if ant.total_cost < best_cost:\n",
    "                    best_cost = ant.total_cost\n",
    "                    best_solution = [] + ant.path\n",
    "                # update pheromone\n",
    "                ant.update_pheromone_delta()\n",
    "            self._update_pheromone(graph, ants)\n",
    "            print('generation #{}, best cost: {}, path: {}'.format(gen, best_cost, best_solution))\n",
    "        return best_solution, best_cost"
   ]
  },
  {
   "cell_type": "markdown",
   "metadata": {},
   "source": [
    "# Running"
   ]
  },
  {
   "cell_type": "code",
   "execution_count": 7,
   "metadata": {},
   "outputs": [
    {
     "name": "stdout",
     "output_type": "stream",
     "text": [
      "generation #0, best cost: 17120.042816344583, path: [9, 8, 7, 1, 3, 4, 5, 6, 12, 11, 13, 10, 22, 15, 16, 18, 23, 24, 19, 20, 21, 17, 2, 25, 27, 26, 30, 29, 28, 0, 14]\n",
      "generation #1, best cost: 17120.042816344583, path: [9, 8, 7, 1, 3, 4, 5, 6, 12, 11, 13, 10, 22, 15, 16, 18, 23, 24, 19, 20, 21, 17, 2, 25, 27, 26, 30, 29, 28, 0, 14]\n",
      "generation #2, best cost: 17120.042816344583, path: [9, 8, 7, 1, 3, 4, 5, 6, 12, 11, 13, 10, 22, 15, 16, 18, 23, 24, 19, 20, 21, 17, 2, 25, 27, 26, 30, 29, 28, 0, 14]\n",
      "generation #3, best cost: 17120.042816344583, path: [9, 8, 7, 1, 3, 4, 5, 6, 12, 11, 13, 10, 22, 15, 16, 18, 23, 24, 19, 20, 21, 17, 2, 25, 27, 26, 30, 29, 28, 0, 14]\n",
      "generation #4, best cost: 17120.042816344583, path: [9, 8, 7, 1, 3, 4, 5, 6, 12, 11, 13, 10, 22, 15, 16, 18, 23, 24, 19, 20, 21, 17, 2, 25, 27, 26, 30, 29, 28, 0, 14]\n",
      "generation #5, best cost: 17120.042816344583, path: [9, 8, 7, 1, 3, 4, 5, 6, 12, 11, 13, 10, 22, 15, 16, 18, 23, 24, 19, 20, 21, 17, 2, 25, 27, 26, 30, 29, 28, 0, 14]\n",
      "generation #6, best cost: 17120.042816344583, path: [9, 8, 7, 1, 3, 4, 5, 6, 12, 11, 13, 10, 22, 15, 16, 18, 23, 24, 19, 20, 21, 17, 2, 25, 27, 26, 30, 29, 28, 0, 14]\n",
      "generation #7, best cost: 17120.042816344583, path: [9, 8, 7, 1, 3, 4, 5, 6, 12, 11, 13, 10, 22, 15, 16, 18, 23, 24, 19, 20, 21, 17, 2, 25, 27, 26, 30, 29, 28, 0, 14]\n",
      "generation #8, best cost: 17120.042816344583, path: [9, 8, 7, 1, 3, 4, 5, 6, 12, 11, 13, 10, 22, 15, 16, 18, 23, 24, 19, 20, 21, 17, 2, 25, 27, 26, 30, 29, 28, 0, 14]\n",
      "generation #9, best cost: 17120.042816344583, path: [9, 8, 7, 1, 3, 4, 5, 6, 12, 11, 13, 10, 22, 15, 16, 18, 23, 24, 19, 20, 21, 17, 2, 25, 27, 26, 30, 29, 28, 0, 14]\n",
      "generation #10, best cost: 17120.042816344583, path: [9, 8, 7, 1, 3, 4, 5, 6, 12, 11, 13, 10, 22, 15, 16, 18, 23, 24, 19, 20, 21, 17, 2, 25, 27, 26, 30, 29, 28, 0, 14]\n",
      "generation #11, best cost: 17120.042816344583, path: [9, 8, 7, 1, 3, 4, 5, 6, 12, 11, 13, 10, 22, 15, 16, 18, 23, 24, 19, 20, 21, 17, 2, 25, 27, 26, 30, 29, 28, 0, 14]\n",
      "generation #12, best cost: 17120.042816344583, path: [9, 8, 7, 1, 3, 4, 5, 6, 12, 11, 13, 10, 22, 15, 16, 18, 23, 24, 19, 20, 21, 17, 2, 25, 27, 26, 30, 29, 28, 0, 14]\n",
      "generation #13, best cost: 17120.042816344583, path: [9, 8, 7, 1, 3, 4, 5, 6, 12, 11, 13, 10, 22, 15, 16, 18, 23, 24, 19, 20, 21, 17, 2, 25, 27, 26, 30, 29, 28, 0, 14]\n",
      "generation #14, best cost: 17120.042816344583, path: [9, 8, 7, 1, 3, 4, 5, 6, 12, 11, 13, 10, 22, 15, 16, 18, 23, 24, 19, 20, 21, 17, 2, 25, 27, 26, 30, 29, 28, 0, 14]\n",
      "generation #15, best cost: 17120.042816344583, path: [9, 8, 7, 1, 3, 4, 5, 6, 12, 11, 13, 10, 22, 15, 16, 18, 23, 24, 19, 20, 21, 17, 2, 25, 27, 26, 30, 29, 28, 0, 14]\n",
      "generation #16, best cost: 17120.042816344583, path: [9, 8, 7, 1, 3, 4, 5, 6, 12, 11, 13, 10, 22, 15, 16, 18, 23, 24, 19, 20, 21, 17, 2, 25, 27, 26, 30, 29, 28, 0, 14]\n",
      "generation #17, best cost: 17120.042816344583, path: [9, 8, 7, 1, 3, 4, 5, 6, 12, 11, 13, 10, 22, 15, 16, 18, 23, 24, 19, 20, 21, 17, 2, 25, 27, 26, 30, 29, 28, 0, 14]\n",
      "generation #18, best cost: 17120.042816344583, path: [9, 8, 7, 1, 3, 4, 5, 6, 12, 11, 13, 10, 22, 15, 16, 18, 23, 24, 19, 20, 21, 17, 2, 25, 27, 26, 30, 29, 28, 0, 14]\n",
      "generation #19, best cost: 17120.042816344583, path: [9, 8, 7, 1, 3, 4, 5, 6, 12, 11, 13, 10, 22, 15, 16, 18, 23, 24, 19, 20, 21, 17, 2, 25, 27, 26, 30, 29, 28, 0, 14]\n",
      "generation #20, best cost: 17120.042816344583, path: [9, 8, 7, 1, 3, 4, 5, 6, 12, 11, 13, 10, 22, 15, 16, 18, 23, 24, 19, 20, 21, 17, 2, 25, 27, 26, 30, 29, 28, 0, 14]\n",
      "generation #21, best cost: 16970.978236089806, path: [30, 29, 26, 27, 25, 20, 21, 17, 2, 16, 18, 23, 19, 24, 10, 11, 13, 12, 6, 5, 4, 3, 1, 15, 22, 7, 8, 9, 14, 0, 28]\n",
      "generation #22, best cost: 16970.978236089806, path: [30, 29, 26, 27, 25, 20, 21, 17, 2, 16, 18, 23, 19, 24, 10, 11, 13, 12, 6, 5, 4, 3, 1, 15, 22, 7, 8, 9, 14, 0, 28]\n",
      "generation #23, best cost: 16970.978236089806, path: [30, 29, 26, 27, 25, 20, 21, 17, 2, 16, 18, 23, 19, 24, 10, 11, 13, 12, 6, 5, 4, 3, 1, 15, 22, 7, 8, 9, 14, 0, 28]\n",
      "generation #24, best cost: 16970.978236089806, path: [30, 29, 26, 27, 25, 20, 21, 17, 2, 16, 18, 23, 19, 24, 10, 11, 13, 12, 6, 5, 4, 3, 1, 15, 22, 7, 8, 9, 14, 0, 28]\n",
      "generation #25, best cost: 16970.978236089806, path: [30, 29, 26, 27, 25, 20, 21, 17, 2, 16, 18, 23, 19, 24, 10, 11, 13, 12, 6, 5, 4, 3, 1, 15, 22, 7, 8, 9, 14, 0, 28]\n",
      "generation #26, best cost: 16970.978236089806, path: [30, 29, 26, 27, 25, 20, 21, 17, 2, 16, 18, 23, 19, 24, 10, 11, 13, 12, 6, 5, 4, 3, 1, 15, 22, 7, 8, 9, 14, 0, 28]\n",
      "generation #27, best cost: 16970.978236089806, path: [30, 29, 26, 27, 25, 20, 21, 17, 2, 16, 18, 23, 19, 24, 10, 11, 13, 12, 6, 5, 4, 3, 1, 15, 22, 7, 8, 9, 14, 0, 28]\n",
      "generation #28, best cost: 16970.978236089806, path: [30, 29, 26, 27, 25, 20, 21, 17, 2, 16, 18, 23, 19, 24, 10, 11, 13, 12, 6, 5, 4, 3, 1, 15, 22, 7, 8, 9, 14, 0, 28]\n",
      "generation #29, best cost: 16970.978236089806, path: [30, 29, 26, 27, 25, 20, 21, 17, 2, 16, 18, 23, 19, 24, 10, 11, 13, 12, 6, 5, 4, 3, 1, 15, 22, 7, 8, 9, 14, 0, 28]\n",
      "generation #30, best cost: 16970.978236089806, path: [30, 29, 26, 27, 25, 20, 21, 17, 2, 16, 18, 23, 19, 24, 10, 11, 13, 12, 6, 5, 4, 3, 1, 15, 22, 7, 8, 9, 14, 0, 28]\n",
      "generation #31, best cost: 16970.978236089806, path: [30, 29, 26, 27, 25, 20, 21, 17, 2, 16, 18, 23, 19, 24, 10, 11, 13, 12, 6, 5, 4, 3, 1, 15, 22, 7, 8, 9, 14, 0, 28]\n",
      "generation #32, best cost: 16970.978236089806, path: [30, 29, 26, 27, 25, 20, 21, 17, 2, 16, 18, 23, 19, 24, 10, 11, 13, 12, 6, 5, 4, 3, 1, 15, 22, 7, 8, 9, 14, 0, 28]\n",
      "generation #33, best cost: 16970.978236089806, path: [30, 29, 26, 27, 25, 20, 21, 17, 2, 16, 18, 23, 19, 24, 10, 11, 13, 12, 6, 5, 4, 3, 1, 15, 22, 7, 8, 9, 14, 0, 28]\n",
      "generation #34, best cost: 16970.978236089806, path: [30, 29, 26, 27, 25, 20, 21, 17, 2, 16, 18, 23, 19, 24, 10, 11, 13, 12, 6, 5, 4, 3, 1, 15, 22, 7, 8, 9, 14, 0, 28]\n",
      "generation #35, best cost: 16970.978236089806, path: [30, 29, 26, 27, 25, 20, 21, 17, 2, 16, 18, 23, 19, 24, 10, 11, 13, 12, 6, 5, 4, 3, 1, 15, 22, 7, 8, 9, 14, 0, 28]\n",
      "generation #36, best cost: 16970.978236089806, path: [30, 29, 26, 27, 25, 20, 21, 17, 2, 16, 18, 23, 19, 24, 10, 11, 13, 12, 6, 5, 4, 3, 1, 15, 22, 7, 8, 9, 14, 0, 28]\n",
      "generation #37, best cost: 16970.978236089806, path: [30, 29, 26, 27, 25, 20, 21, 17, 2, 16, 18, 23, 19, 24, 10, 11, 13, 12, 6, 5, 4, 3, 1, 15, 22, 7, 8, 9, 14, 0, 28]\n",
      "generation #38, best cost: 16970.978236089806, path: [30, 29, 26, 27, 25, 20, 21, 17, 2, 16, 18, 23, 19, 24, 10, 11, 13, 12, 6, 5, 4, 3, 1, 15, 22, 7, 8, 9, 14, 0, 28]\n",
      "generation #39, best cost: 16970.978236089806, path: [30, 29, 26, 27, 25, 20, 21, 17, 2, 16, 18, 23, 19, 24, 10, 11, 13, 12, 6, 5, 4, 3, 1, 15, 22, 7, 8, 9, 14, 0, 28]\n",
      "generation #40, best cost: 16970.978236089806, path: [30, 29, 26, 27, 25, 20, 21, 17, 2, 16, 18, 23, 19, 24, 10, 11, 13, 12, 6, 5, 4, 3, 1, 15, 22, 7, 8, 9, 14, 0, 28]\n",
      "generation #41, best cost: 16970.978236089806, path: [30, 29, 26, 27, 25, 20, 21, 17, 2, 16, 18, 23, 19, 24, 10, 11, 13, 12, 6, 5, 4, 3, 1, 15, 22, 7, 8, 9, 14, 0, 28]\n",
      "generation #42, best cost: 16970.978236089806, path: [30, 29, 26, 27, 25, 20, 21, 17, 2, 16, 18, 23, 19, 24, 10, 11, 13, 12, 6, 5, 4, 3, 1, 15, 22, 7, 8, 9, 14, 0, 28]\n",
      "generation #43, best cost: 16970.978236089806, path: [30, 29, 26, 27, 25, 20, 21, 17, 2, 16, 18, 23, 19, 24, 10, 11, 13, 12, 6, 5, 4, 3, 1, 15, 22, 7, 8, 9, 14, 0, 28]\n",
      "generation #44, best cost: 16970.978236089806, path: [30, 29, 26, 27, 25, 20, 21, 17, 2, 16, 18, 23, 19, 24, 10, 11, 13, 12, 6, 5, 4, 3, 1, 15, 22, 7, 8, 9, 14, 0, 28]\n",
      "generation #45, best cost: 16970.978236089806, path: [30, 29, 26, 27, 25, 20, 21, 17, 2, 16, 18, 23, 19, 24, 10, 11, 13, 12, 6, 5, 4, 3, 1, 15, 22, 7, 8, 9, 14, 0, 28]\n",
      "generation #46, best cost: 16970.978236089806, path: [30, 29, 26, 27, 25, 20, 21, 17, 2, 16, 18, 23, 19, 24, 10, 11, 13, 12, 6, 5, 4, 3, 1, 15, 22, 7, 8, 9, 14, 0, 28]\n",
      "generation #47, best cost: 16970.978236089806, path: [30, 29, 26, 27, 25, 20, 21, 17, 2, 16, 18, 23, 19, 24, 10, 11, 13, 12, 6, 5, 4, 3, 1, 15, 22, 7, 8, 9, 14, 0, 28]\n",
      "generation #48, best cost: 16970.978236089806, path: [30, 29, 26, 27, 25, 20, 21, 17, 2, 16, 18, 23, 19, 24, 10, 11, 13, 12, 6, 5, 4, 3, 1, 15, 22, 7, 8, 9, 14, 0, 28]\n"
     ]
    },
    {
     "name": "stdout",
     "output_type": "stream",
     "text": [
      "generation #49, best cost: 16970.978236089806, path: [30, 29, 26, 27, 25, 20, 21, 17, 2, 16, 18, 23, 19, 24, 10, 11, 13, 12, 6, 5, 4, 3, 1, 15, 22, 7, 8, 9, 14, 0, 28]\n",
      "generation #50, best cost: 16970.978236089806, path: [30, 29, 26, 27, 25, 20, 21, 17, 2, 16, 18, 23, 19, 24, 10, 11, 13, 12, 6, 5, 4, 3, 1, 15, 22, 7, 8, 9, 14, 0, 28]\n",
      "generation #51, best cost: 16970.978236089806, path: [30, 29, 26, 27, 25, 20, 21, 17, 2, 16, 18, 23, 19, 24, 10, 11, 13, 12, 6, 5, 4, 3, 1, 15, 22, 7, 8, 9, 14, 0, 28]\n",
      "generation #52, best cost: 16970.978236089806, path: [30, 29, 26, 27, 25, 20, 21, 17, 2, 16, 18, 23, 19, 24, 10, 11, 13, 12, 6, 5, 4, 3, 1, 15, 22, 7, 8, 9, 14, 0, 28]\n",
      "generation #53, best cost: 16970.978236089806, path: [30, 29, 26, 27, 25, 20, 21, 17, 2, 16, 18, 23, 19, 24, 10, 11, 13, 12, 6, 5, 4, 3, 1, 15, 22, 7, 8, 9, 14, 0, 28]\n",
      "generation #54, best cost: 16970.978236089806, path: [30, 29, 26, 27, 25, 20, 21, 17, 2, 16, 18, 23, 19, 24, 10, 11, 13, 12, 6, 5, 4, 3, 1, 15, 22, 7, 8, 9, 14, 0, 28]\n",
      "generation #55, best cost: 16970.978236089806, path: [30, 29, 26, 27, 25, 20, 21, 17, 2, 16, 18, 23, 19, 24, 10, 11, 13, 12, 6, 5, 4, 3, 1, 15, 22, 7, 8, 9, 14, 0, 28]\n",
      "generation #56, best cost: 16970.978236089806, path: [30, 29, 26, 27, 25, 20, 21, 17, 2, 16, 18, 23, 19, 24, 10, 11, 13, 12, 6, 5, 4, 3, 1, 15, 22, 7, 8, 9, 14, 0, 28]\n",
      "generation #57, best cost: 16970.978236089806, path: [30, 29, 26, 27, 25, 20, 21, 17, 2, 16, 18, 23, 19, 24, 10, 11, 13, 12, 6, 5, 4, 3, 1, 15, 22, 7, 8, 9, 14, 0, 28]\n",
      "generation #58, best cost: 16970.978236089806, path: [30, 29, 26, 27, 25, 20, 21, 17, 2, 16, 18, 23, 19, 24, 10, 11, 13, 12, 6, 5, 4, 3, 1, 15, 22, 7, 8, 9, 14, 0, 28]\n",
      "generation #59, best cost: 16970.978236089806, path: [30, 29, 26, 27, 25, 20, 21, 17, 2, 16, 18, 23, 19, 24, 10, 11, 13, 12, 6, 5, 4, 3, 1, 15, 22, 7, 8, 9, 14, 0, 28]\n",
      "generation #60, best cost: 16970.978236089806, path: [30, 29, 26, 27, 25, 20, 21, 17, 2, 16, 18, 23, 19, 24, 10, 11, 13, 12, 6, 5, 4, 3, 1, 15, 22, 7, 8, 9, 14, 0, 28]\n",
      "generation #61, best cost: 16970.978236089806, path: [30, 29, 26, 27, 25, 20, 21, 17, 2, 16, 18, 23, 19, 24, 10, 11, 13, 12, 6, 5, 4, 3, 1, 15, 22, 7, 8, 9, 14, 0, 28]\n",
      "generation #62, best cost: 16970.978236089806, path: [30, 29, 26, 27, 25, 20, 21, 17, 2, 16, 18, 23, 19, 24, 10, 11, 13, 12, 6, 5, 4, 3, 1, 15, 22, 7, 8, 9, 14, 0, 28]\n",
      "generation #63, best cost: 16970.978236089806, path: [30, 29, 26, 27, 25, 20, 21, 17, 2, 16, 18, 23, 19, 24, 10, 11, 13, 12, 6, 5, 4, 3, 1, 15, 22, 7, 8, 9, 14, 0, 28]\n",
      "generation #64, best cost: 16970.978236089806, path: [30, 29, 26, 27, 25, 20, 21, 17, 2, 16, 18, 23, 19, 24, 10, 11, 13, 12, 6, 5, 4, 3, 1, 15, 22, 7, 8, 9, 14, 0, 28]\n",
      "generation #65, best cost: 16970.978236089806, path: [30, 29, 26, 27, 25, 20, 21, 17, 2, 16, 18, 23, 19, 24, 10, 11, 13, 12, 6, 5, 4, 3, 1, 15, 22, 7, 8, 9, 14, 0, 28]\n",
      "generation #66, best cost: 16970.978236089806, path: [30, 29, 26, 27, 25, 20, 21, 17, 2, 16, 18, 23, 19, 24, 10, 11, 13, 12, 6, 5, 4, 3, 1, 15, 22, 7, 8, 9, 14, 0, 28]\n",
      "generation #67, best cost: 16970.978236089806, path: [30, 29, 26, 27, 25, 20, 21, 17, 2, 16, 18, 23, 19, 24, 10, 11, 13, 12, 6, 5, 4, 3, 1, 15, 22, 7, 8, 9, 14, 0, 28]\n",
      "generation #68, best cost: 16970.978236089806, path: [30, 29, 26, 27, 25, 20, 21, 17, 2, 16, 18, 23, 19, 24, 10, 11, 13, 12, 6, 5, 4, 3, 1, 15, 22, 7, 8, 9, 14, 0, 28]\n",
      "generation #69, best cost: 16970.978236089806, path: [30, 29, 26, 27, 25, 20, 21, 17, 2, 16, 18, 23, 19, 24, 10, 11, 13, 12, 6, 5, 4, 3, 1, 15, 22, 7, 8, 9, 14, 0, 28]\n",
      "generation #70, best cost: 16970.978236089806, path: [30, 29, 26, 27, 25, 20, 21, 17, 2, 16, 18, 23, 19, 24, 10, 11, 13, 12, 6, 5, 4, 3, 1, 15, 22, 7, 8, 9, 14, 0, 28]\n",
      "generation #71, best cost: 16970.978236089806, path: [30, 29, 26, 27, 25, 20, 21, 17, 2, 16, 18, 23, 19, 24, 10, 11, 13, 12, 6, 5, 4, 3, 1, 15, 22, 7, 8, 9, 14, 0, 28]\n",
      "generation #72, best cost: 16970.978236089806, path: [30, 29, 26, 27, 25, 20, 21, 17, 2, 16, 18, 23, 19, 24, 10, 11, 13, 12, 6, 5, 4, 3, 1, 15, 22, 7, 8, 9, 14, 0, 28]\n",
      "generation #73, best cost: 16970.978236089806, path: [30, 29, 26, 27, 25, 20, 21, 17, 2, 16, 18, 23, 19, 24, 10, 11, 13, 12, 6, 5, 4, 3, 1, 15, 22, 7, 8, 9, 14, 0, 28]\n",
      "generation #74, best cost: 16970.978236089806, path: [30, 29, 26, 27, 25, 20, 21, 17, 2, 16, 18, 23, 19, 24, 10, 11, 13, 12, 6, 5, 4, 3, 1, 15, 22, 7, 8, 9, 14, 0, 28]\n",
      "generation #75, best cost: 16970.978236089806, path: [30, 29, 26, 27, 25, 20, 21, 17, 2, 16, 18, 23, 19, 24, 10, 11, 13, 12, 6, 5, 4, 3, 1, 15, 22, 7, 8, 9, 14, 0, 28]\n",
      "generation #76, best cost: 16970.978236089806, path: [30, 29, 26, 27, 25, 20, 21, 17, 2, 16, 18, 23, 19, 24, 10, 11, 13, 12, 6, 5, 4, 3, 1, 15, 22, 7, 8, 9, 14, 0, 28]\n",
      "generation #77, best cost: 16970.978236089806, path: [30, 29, 26, 27, 25, 20, 21, 17, 2, 16, 18, 23, 19, 24, 10, 11, 13, 12, 6, 5, 4, 3, 1, 15, 22, 7, 8, 9, 14, 0, 28]\n",
      "generation #78, best cost: 16970.978236089806, path: [30, 29, 26, 27, 25, 20, 21, 17, 2, 16, 18, 23, 19, 24, 10, 11, 13, 12, 6, 5, 4, 3, 1, 15, 22, 7, 8, 9, 14, 0, 28]\n",
      "generation #79, best cost: 16970.978236089806, path: [30, 29, 26, 27, 25, 20, 21, 17, 2, 16, 18, 23, 19, 24, 10, 11, 13, 12, 6, 5, 4, 3, 1, 15, 22, 7, 8, 9, 14, 0, 28]\n",
      "generation #80, best cost: 16970.978236089806, path: [30, 29, 26, 27, 25, 20, 21, 17, 2, 16, 18, 23, 19, 24, 10, 11, 13, 12, 6, 5, 4, 3, 1, 15, 22, 7, 8, 9, 14, 0, 28]\n",
      "generation #81, best cost: 16970.978236089806, path: [30, 29, 26, 27, 25, 20, 21, 17, 2, 16, 18, 23, 19, 24, 10, 11, 13, 12, 6, 5, 4, 3, 1, 15, 22, 7, 8, 9, 14, 0, 28]\n",
      "generation #82, best cost: 16970.978236089806, path: [30, 29, 26, 27, 25, 20, 21, 17, 2, 16, 18, 23, 19, 24, 10, 11, 13, 12, 6, 5, 4, 3, 1, 15, 22, 7, 8, 9, 14, 0, 28]\n",
      "generation #83, best cost: 16970.978236089806, path: [30, 29, 26, 27, 25, 20, 21, 17, 2, 16, 18, 23, 19, 24, 10, 11, 13, 12, 6, 5, 4, 3, 1, 15, 22, 7, 8, 9, 14, 0, 28]\n",
      "generation #84, best cost: 16970.978236089806, path: [30, 29, 26, 27, 25, 20, 21, 17, 2, 16, 18, 23, 19, 24, 10, 11, 13, 12, 6, 5, 4, 3, 1, 15, 22, 7, 8, 9, 14, 0, 28]\n",
      "generation #85, best cost: 16970.978236089806, path: [30, 29, 26, 27, 25, 20, 21, 17, 2, 16, 18, 23, 19, 24, 10, 11, 13, 12, 6, 5, 4, 3, 1, 15, 22, 7, 8, 9, 14, 0, 28]\n",
      "generation #86, best cost: 16970.978236089806, path: [30, 29, 26, 27, 25, 20, 21, 17, 2, 16, 18, 23, 19, 24, 10, 11, 13, 12, 6, 5, 4, 3, 1, 15, 22, 7, 8, 9, 14, 0, 28]\n",
      "generation #87, best cost: 16970.978236089806, path: [30, 29, 26, 27, 25, 20, 21, 17, 2, 16, 18, 23, 19, 24, 10, 11, 13, 12, 6, 5, 4, 3, 1, 15, 22, 7, 8, 9, 14, 0, 28]\n",
      "generation #88, best cost: 16970.978236089806, path: [30, 29, 26, 27, 25, 20, 21, 17, 2, 16, 18, 23, 19, 24, 10, 11, 13, 12, 6, 5, 4, 3, 1, 15, 22, 7, 8, 9, 14, 0, 28]\n",
      "generation #89, best cost: 16970.978236089806, path: [30, 29, 26, 27, 25, 20, 21, 17, 2, 16, 18, 23, 19, 24, 10, 11, 13, 12, 6, 5, 4, 3, 1, 15, 22, 7, 8, 9, 14, 0, 28]\n",
      "generation #90, best cost: 16970.978236089806, path: [30, 29, 26, 27, 25, 20, 21, 17, 2, 16, 18, 23, 19, 24, 10, 11, 13, 12, 6, 5, 4, 3, 1, 15, 22, 7, 8, 9, 14, 0, 28]\n",
      "generation #91, best cost: 16970.978236089806, path: [30, 29, 26, 27, 25, 20, 21, 17, 2, 16, 18, 23, 19, 24, 10, 11, 13, 12, 6, 5, 4, 3, 1, 15, 22, 7, 8, 9, 14, 0, 28]\n",
      "generation #92, best cost: 16970.978236089806, path: [30, 29, 26, 27, 25, 20, 21, 17, 2, 16, 18, 23, 19, 24, 10, 11, 13, 12, 6, 5, 4, 3, 1, 15, 22, 7, 8, 9, 14, 0, 28]\n",
      "generation #93, best cost: 16970.978236089806, path: [30, 29, 26, 27, 25, 20, 21, 17, 2, 16, 18, 23, 19, 24, 10, 11, 13, 12, 6, 5, 4, 3, 1, 15, 22, 7, 8, 9, 14, 0, 28]\n",
      "generation #94, best cost: 16970.978236089806, path: [30, 29, 26, 27, 25, 20, 21, 17, 2, 16, 18, 23, 19, 24, 10, 11, 13, 12, 6, 5, 4, 3, 1, 15, 22, 7, 8, 9, 14, 0, 28]\n",
      "generation #95, best cost: 16970.978236089806, path: [30, 29, 26, 27, 25, 20, 21, 17, 2, 16, 18, 23, 19, 24, 10, 11, 13, 12, 6, 5, 4, 3, 1, 15, 22, 7, 8, 9, 14, 0, 28]\n",
      "generation #96, best cost: 16970.978236089806, path: [30, 29, 26, 27, 25, 20, 21, 17, 2, 16, 18, 23, 19, 24, 10, 11, 13, 12, 6, 5, 4, 3, 1, 15, 22, 7, 8, 9, 14, 0, 28]\n",
      "generation #97, best cost: 16970.978236089806, path: [30, 29, 26, 27, 25, 20, 21, 17, 2, 16, 18, 23, 19, 24, 10, 11, 13, 12, 6, 5, 4, 3, 1, 15, 22, 7, 8, 9, 14, 0, 28]\n"
     ]
    },
    {
     "name": "stdout",
     "output_type": "stream",
     "text": [
      "generation #98, best cost: 16970.978236089806, path: [30, 29, 26, 27, 25, 20, 21, 17, 2, 16, 18, 23, 19, 24, 10, 11, 13, 12, 6, 5, 4, 3, 1, 15, 22, 7, 8, 9, 14, 0, 28]\n",
      "generation #99, best cost: 16970.978236089806, path: [30, 29, 26, 27, 25, 20, 21, 17, 2, 16, 18, 23, 19, 24, 10, 11, 13, 12, 6, 5, 4, 3, 1, 15, 22, 7, 8, 9, 14, 0, 28]\n",
      "cost: 16970.978236089806, path: [30, 29, 26, 27, 25, 20, 21, 17, 2, 16, 18, 23, 19, 24, 10, 11, 13, 12, 6, 5, 4, 3, 1, 15, 22, 7, 8, 9, 14, 0, 28]\n"
     ]
    },
    {
     "data": {
      "image/png": "[encoded data removed]",
      "text/plain": [
       "<matplotlib.figure.Figure at 0x23a938d4978>"
      ]
     },
     "metadata": {},
     "output_type": "display_data"
    }
   ],
   "source": [
    "def main():\n",
    "    # Loading Data from files\n",
    "    cities = []\n",
    "    points = []\n",
    "    with open('./data/chn31.txt') as f:\n",
    "        for line in f.readlines():\n",
    "            city = line.split(' ')\n",
    "            cities.append(dict(index=int(city[0]), x=int(city[1]), y=int(city[2])))\n",
    "            points.append((int(city[1]), int(city[2])))\n",
    "    \n",
    "    # Calculating Cost matrix => distance between city i and j\n",
    "    cost_matrix = []\n",
    "    rank = len(cities)\n",
    "    for i in range(rank):\n",
    "        row = []\n",
    "        for j in range(rank):\n",
    "            row.append(distance(cities[i], cities[j]))\n",
    "        cost_matrix.append(row)\n",
    "        \n",
    "    # Instaniate ACO, and Run\n",
    "    aco = ACO(10, 100, 1.0, 10.0, 0.5, 10, 2)\n",
    "    graph = Graph(cost_matrix, rank)\n",
    "    path, cost = aco.solve(graph)\n",
    "    print('cost: {}, path: {}'.format(cost, path))\n",
    "    \n",
    "    # Ploting the best cycle found\n",
    "    plot(points, path)\n",
    "\n",
    "if __name__ == '__main__':\n",
    "    main()"
   ]
  }
 ],
 "metadata": {
  "kernelspec": {
   "display_name": "Python 3",
   "language": "python",
   "name": "python3"
  },
  "language_info": {
   "codemirror_mode": {
    "name": "ipython",
    "version": 3
   },
   "file_extension": ".py",
   "mimetype": "text/x-python",
   "name": "python",
   "nbconvert_exporter": "python",
   "pygments_lexer": "ipython3",
   "version": "3.6.4"
  }
 },
 "nbformat": 4,
 "nbformat_minor": 2
}
